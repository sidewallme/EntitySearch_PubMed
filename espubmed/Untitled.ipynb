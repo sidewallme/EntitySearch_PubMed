{
 "cells": [
  {
   "cell_type": "code",
   "execution_count": 1,
   "metadata": {
    "collapsed": false
   },
   "outputs": [
    {
     "name": "stdout",
     "output_type": "stream",
     "text": [
      "9659198\n"
     ]
    }
   ],
   "source": [
    "with open(\"/Users/erichsu/Documents/research/espubmed/complete/patterns.txt\", \"r\") as f:\n",
    "    count = 0;\n",
    "    for line in f:\n",
    "        count+=1\n",
    "        \n",
    "print count"
   ]
  },
  {
   "cell_type": "code",
   "execution_count": 2,
   "metadata": {
    "collapsed": true
   },
   "outputs": [],
   "source": [
    "pos1 = ['D', 'G', 'M', 'S', 'C']"
   ]
  },
  {
   "cell_type": "code",
   "execution_count": 3,
   "metadata": {
    "collapsed": false
   },
   "outputs": [],
   "source": [
    "pos2 = ['D', 'G', 'M', 'S', 'C']"
   ]
  },
  {
   "cell_type": "code",
   "execution_count": 4,
   "metadata": {
    "collapsed": true
   },
   "outputs": [],
   "source": [
    "lib = {}\n",
    "pair = []\n",
    "\n",
    "for e1 in pos1:\n",
    "    for e2 in pos2:\n",
    "        pair = e1+e2\n",
    "        lib[pair] = []"
   ]
  },
  {
   "cell_type": "code",
   "execution_count": null,
   "metadata": {
    "collapsed": false
   },
   "outputs": [],
   "source": [
    "lib"
   ]
  },
  {
   "cell_type": "code",
   "execution_count": 9,
   "metadata": {
    "collapsed": false
   },
   "outputs": [],
   "source": [
    "with open(\"/Users/erichsu/Documents/research/espubmed/complete/patterns.txt\", \"r\") as f:\n",
    "    for line in f:\n",
    "        if line.strip().isdigit():\n",
    "            pass\n",
    "        else:\n",
    "            for key in lib.keys():\n",
    "                lib[key].extend(extract(line.strip(), key[0], key[1]))"
   ]
  },
  {
   "cell_type": "code",
   "execution_count": 6,
   "metadata": {
    "collapsed": true
   },
   "outputs": [],
   "source": [
    "def extract(s, e1, e2):\n",
    "    tags = normal(s)\n",
    "    ents = entities(s)\n",
    "    epos1 = []\n",
    "    epos2 = []\n",
    "    ret = []\n",
    "    for i in range(0, len(ents)):\n",
    "        if e1 in ents[i]:\n",
    "            epos1.append(i)\n",
    "        if e2 in ents[i]:\n",
    "            epos2.append(i)\n",
    "        \n",
    "    for loc1 in epos1:\n",
    "        for loc2 in epos2:\n",
    "            if loc2 > loc1:\n",
    "                ret.append(\"_\".join(tags[loc1+1:loc2]))\n",
    "    return ret               "
   ]
  },
  {
   "cell_type": "code",
   "execution_count": null,
   "metadata": {
    "collapsed": false
   },
   "outputs": [],
   "source": [
    "extract(s, 'M', 'D')"
   ]
  },
  {
   "cell_type": "code",
   "execution_count": 23,
   "metadata": {
    "collapsed": false
   },
   "outputs": [],
   "source": [
    "def normal(s):\n",
    "    ret = []\n",
    "    units = s.split(\"\\t\")\n",
    "    for unit in units:\n",
    "        ret.append(unit.split(\"|\")[0])\n",
    "    return ret"
   ]
  },
  {
   "cell_type": "code",
   "execution_count": 24,
   "metadata": {
    "collapsed": false
   },
   "outputs": [],
   "source": [
    "def entities(s):\n",
    "    ret = []\n",
    "    units = s.split(\"\\t\")\n",
    "    for unit in units:\n",
    "        ret.append(unit.split(\"|\")[1])\n",
    "    return ret"
   ]
  },
  {
   "cell_type": "code",
   "execution_count": null,
   "metadata": {
    "collapsed": false
   },
   "outputs": [],
   "source": [
    "m = entities(s)"
   ]
  },
  {
   "cell_type": "code",
   "execution_count": null,
   "metadata": {
    "collapsed": false
   },
   "outputs": [],
   "source": [
    "m[2:4]"
   ]
  },
  {
   "cell_type": "code",
   "execution_count": null,
   "metadata": {
    "collapsed": false
   },
   "outputs": [],
   "source": [
    "\",\".join(m)"
   ]
  },
  {
   "cell_type": "code",
   "execution_count": null,
   "metadata": {
    "collapsed": false
   },
   "outputs": [],
   "source": [
    "lib"
   ]
  },
  {
   "cell_type": "code",
   "execution_count": 10,
   "metadata": {
    "collapsed": false
   },
   "outputs": [
    {
     "name": "stdout",
     "output_type": "stream",
     "text": [
      "DM 3352\n",
      "DG 130\n",
      "DD 514134\n",
      "DC 103889\n",
      "DS 240108\n",
      "GS 113\n",
      "MS 3898\n",
      "CM 3332\n",
      "CC 562696\n",
      "CG 76\n",
      "CD 142037\n",
      "GG 148\n",
      "GD 140\n",
      "GC 93\n",
      "CS 134951\n",
      "GM 18\n",
      "MD 6762\n",
      "MG 22\n",
      "MC 4013\n",
      "MM 6729\n",
      "SS 294922\n",
      "SM 3238\n",
      "SC 124442\n",
      "SG 118\n",
      "SD 380906\n"
     ]
    }
   ],
   "source": [
    "for key in lib.keys():\n",
    "    print key, len(lib[key])"
   ]
  },
  {
   "cell_type": "code",
   "execution_count": null,
   "metadata": {
    "collapsed": false
   },
   "outputs": [],
   "source": [
    "for e1 in pos1:\n",
    "    for e2 in pos2:\n",
    "        print len(lib[e1+e2]),\",\",\n",
    "    print \"\""
   ]
  },
  {
   "cell_type": "code",
   "execution_count": 17,
   "metadata": {
    "collapsed": false
   },
   "outputs": [
    {
     "name": "stdout",
     "output_type": "stream",
     "text": [
      "DM\n",
      "DG\n",
      "DD\n",
      "DC\n",
      "DS\n",
      "GS\n",
      "MS\n",
      "CM\n",
      "CC\n",
      "CG\n",
      "CD\n",
      "GG\n",
      "GD\n",
      "GC\n",
      "CS\n",
      "GM\n",
      "MD\n",
      "MG\n",
      "MC\n",
      "MM\n",
      "SS\n",
      "SM\n",
      "SC\n",
      "SG\n",
      "SD\n"
     ]
    }
   ],
   "source": [
    "for key in lib.keys():\n",
    "    print key\n",
    "    freq = {}\n",
    "    for p in lib[key]:\n",
    "        freq[p] = 0\n",
    "    for p in lib[key]:\n",
    "        freq[p] += 1\n",
    "    \n",
    "    t = sorted(freq.iteritems(), key=lambda x:-x[1])[:10]\n",
    "    \n",
    "    with open(key+\"_Density.txt\", \"w\") as f:\n",
    "        for x in t:\n",
    "            #x = str(x)\n",
    "            #print x\n",
    "            f.write(x[0])\n",
    "            f.write(\",\")\n",
    "            f.write(str(float(x[1])/len(lib[key]))\n",
    "            f.write(\"\\n\")\n",
    "            #f.write(\"{0}, {1}\".format(*x))\n",
    "            #f.write(\"\\n\")"
   ]
  },
  {
   "cell_type": "code",
   "execution_count": 18,
   "metadata": {
    "collapsed": true
   },
   "outputs": [],
   "source": [
    "filename = \"/Users/erichsu/Documents/research/espubmed/relationphrases.txt\""
   ]
  },
  {
   "cell_type": "code",
   "execution_count": 21,
   "metadata": {
    "collapsed": true
   },
   "outputs": [],
   "source": [
    "sa = \"NP||\tNP||\tADVP||\tPP||\tNP||\tPP||\tNP|C|\tPP||\tNP||\tVP||have been performed\tPP||\tNP|D|\tPP||\tNP||\""
   ]
  },
  {
   "cell_type": "code",
   "execution_count": 22,
   "metadata": {
    "collapsed": false
   },
   "outputs": [
    {
     "data": {
      "text/plain": [
       "['NP||',\n",
       " 'NP||',\n",
       " 'ADVP||',\n",
       " 'PP||',\n",
       " 'NP||',\n",
       " 'PP||',\n",
       " 'NP|C|',\n",
       " 'PP||',\n",
       " 'NP||',\n",
       " 'VP||have been performed',\n",
       " 'PP||',\n",
       " 'NP|D|',\n",
       " 'PP||',\n",
       " 'NP||']"
      ]
     },
     "execution_count": 22,
     "metadata": {},
     "output_type": "execute_result"
    }
   ],
   "source": [
    "sa.split(\"\\t\")"
   ]
  },
  {
   "cell_type": "code",
   "execution_count": 26,
   "metadata": {
    "collapsed": false
   },
   "outputs": [
    {
     "data": {
      "text/plain": [
       "['', '', '', '', '', '', '', '', '', 'have been performed', '', '', '', '']"
      ]
     },
     "execution_count": 26,
     "metadata": {},
     "output_type": "execute_result"
    }
   ],
   "source": [
    "verbs(sa)"
   ]
  },
  {
   "cell_type": "code",
   "execution_count": 25,
   "metadata": {
    "collapsed": true
   },
   "outputs": [],
   "source": [
    "def verbs(s):\n",
    "    ret = []\n",
    "    units = s.split(\"\\t\")\n",
    "    for unit in units:\n",
    "        ret.append(unit.split(\"|\")[2])\n",
    "    return ret"
   ]
  },
  {
   "cell_type": "code",
   "execution_count": 27,
   "metadata": {
    "collapsed": true
   },
   "outputs": [],
   "source": [
    "def extract(s, e1, e2):\n",
    "    tags = normal(s)\n",
    "    ents = entities(s)\n",
    "    phrases = verbs(s)\n",
    "    epos1 = []\n",
    "    epos2 = []\n",
    "    ret = []\n",
    "    for i in range(0, len(ents)):\n",
    "        if e1 in ents[i]:\n",
    "            epos1.append(i)\n",
    "        if e2 in ents[i]:\n",
    "            epos2.append(i)\n",
    "        \n",
    "    for loc1 in epos1:\n",
    "        for loc2 in epos2:\n",
    "            if loc2 > loc1:\n",
    "                for i in range(loc1+1, loc2):\n",
    "                    if phrases[i] is not \"\":\n",
    "                        ret.append(phrases[i])\n",
    "    return ret"
   ]
  },
  {
   "cell_type": "code",
   "execution_count": 28,
   "metadata": {
    "collapsed": true
   },
   "outputs": [],
   "source": [
    "lib = {}\n",
    "pair = []\n",
    "\n",
    "for e1 in pos1:\n",
    "    for e2 in pos2:\n",
    "        pair = e1+e2\n",
    "        lib[pair] = []"
   ]
  },
  {
   "cell_type": "code",
   "execution_count": 29,
   "metadata": {
    "collapsed": true
   },
   "outputs": [],
   "source": [
    "with open(filename, \"r\") as f:\n",
    "    for line in f:\n",
    "        if line.strip().isdigit():\n",
    "            pass\n",
    "        else:\n",
    "            for key in lib.keys():\n",
    "                lib[key].extend(extract(line.strip(), key[0], key[1]))"
   ]
  },
  {
   "cell_type": "code",
   "execution_count": 35,
   "metadata": {
    "collapsed": false
   },
   "outputs": [
    {
     "name": "stdout",
     "output_type": "stream",
     "text": [
      "DM\n",
      "DG\n",
      "DD\n",
      "DC\n",
      "DS\n",
      "GS\n",
      "MS\n",
      "CM\n",
      "CC\n",
      "CG\n",
      "CD\n",
      "GG\n",
      "GD\n",
      "GC\n",
      "CS\n",
      "GM\n",
      "MD\n",
      "MG\n",
      "MC\n",
      "MM\n",
      "SS\n",
      "SM\n",
      "SC\n",
      "SG\n",
      "SD\n"
     ]
    }
   ],
   "source": [
    "for key in lib.keys():\n",
    "    print key\n",
    "    freq = {}\n",
    "    for p in lib[key]:\n",
    "        freq[p] = 0\n",
    "    for p in lib[key]:\n",
    "        freq[p] += 1\n",
    "    \n",
    "    t = sorted(freq.iteritems(), key=lambda x:-x[1])[:10]\n",
    "    \n",
    "    with open(key+\"_PhraseDensity.txt\", \"w\") as fi:\n",
    "        for x in t:\n",
    "            fi.write(x[0])\n",
    "            fi.write(\"@\")\n",
    "            fi.write(str(float(x[1])/len(lib[key])))\n",
    "            fi.write(\"\\n\")\n"
   ]
  },
  {
   "cell_type": "code",
   "execution_count": null,
   "metadata": {
    "collapsed": true
   },
   "outputs": [],
   "source": [
    "\n"
   ]
  }
 ],
 "metadata": {
  "kernelspec": {
   "display_name": "Python 2",
   "language": "python",
   "name": "python2"
  },
  "language_info": {
   "codemirror_mode": {
    "name": "ipython",
    "version": 2
   },
   "file_extension": ".py",
   "mimetype": "text/x-python",
   "name": "python",
   "nbconvert_exporter": "python",
   "pygments_lexer": "ipython2",
   "version": "2.7.10"
  }
 },
 "nbformat": 4,
 "nbformat_minor": 0
}
